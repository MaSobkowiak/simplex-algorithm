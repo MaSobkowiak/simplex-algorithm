{
 "cells": [
  {
   "cell_type": "code",
   "execution_count": 70,
   "id": "laden-reading",
   "metadata": {},
   "outputs": [],
   "source": [
    "import numpy as np\n",
    "import re"
   ]
  },
  {
   "cell_type": "markdown",
   "id": "handed-provincial",
   "metadata": {},
   "source": [
    "### Funkcja generująca tablicę numpy z wystarczającą liczbą wierszy dla każdego ograniczenia, funkcją celu i wystarczającą liczbą kolumn dla zmiennych, zmiennych luzu, M (maks./min.) i odpowiadającej im wartości.\n",
    "variables - liczba zmiennych x1, x2... \n",
    "\n",
    "contraints - liczba ograniczeń x1 < x2 ..."
   ]
  },
  {
   "cell_type": "code",
   "execution_count": 71,
   "id": "received-search",
   "metadata": {},
   "outputs": [
    {
     "name": "stdout",
     "output_type": "stream",
     "text": [
      "[[0. 0. 0. 0. 0. 0. 0. 0. 0. 0. 0. 0.]\n",
      " [0. 0. 0. 0. 0. 0. 0. 0. 0. 0. 0. 0.]\n",
      " [0. 0. 0. 0. 0. 0. 0. 0. 0. 0. 0. 0.]\n",
      " [0. 0. 0. 0. 0. 0. 0. 0. 0. 0. 0. 0.]\n",
      " [0. 0. 0. 0. 0. 0. 0. 0. 0. 0. 0. 0.]\n",
      " [0. 0. 0. 0. 0. 0. 0. 0. 0. 0. 0. 0.]]\n"
     ]
    }
   ],
   "source": [
    "def generate_matrix(variables , constraints):    \n",
    "    table = np.zeros((constraints + 1, variables + constraints + 2))    \n",
    "    return table\n",
    "\n",
    "print(generate_matrix(5, 5))"
   ]
  },
  {
   "cell_type": "markdown",
   "id": "derived-hollywood",
   "metadata": {},
   "source": [
    "**next_round_right** - sprawdza czy wymagana jest 1+ oś obrotu z powodu ujemnego elementu w najdalszej prawej kolumnie, wyłączając dolną wartość.\n",
    "\n",
    "**next_round_bottom** - sprawdza czy wymagana jest 1+ oś obrotu z powodu ujemnego elementu w dolnym wierszu, wyłączając wartość końcową.\n",
    "\n",
    "table - wygenerowana w punkcie pierwszym tablica"
   ]
  },
  {
   "cell_type": "code",
   "execution_count": 72,
   "id": "packed-integral",
   "metadata": {},
   "outputs": [],
   "source": [
    "def next_round_right(table):    \n",
    "    m = min(table[:-1,-1])    \n",
    "    if m>= 0:        \n",
    "        return False    \n",
    "    else:        \n",
    "        return True\n",
    "\n",
    "def next_round_bottom(table):    \n",
    "    lr = len(table[:,0])   \n",
    "    m = min(table[lr-1,:-1])    \n",
    "    if m>=0:\n",
    "        return False\n",
    "    else:\n",
    "        return True"
   ]
  },
  {
   "cell_type": "markdown",
   "id": "former-auction",
   "metadata": {},
   "source": [
    "### Niezależnie od tego, czy wymagane są dodatkowe elementy obrotowe, musimy określić, gdzie znajdują się te elementy.\n",
    "**find_negative_right** - znajduje elementy negatywne w skrajnej prawej kolumnie.\n",
    "\n",
    "**find_negative_bottom** - znajduje elementy negatywne w dolnym rzędzie"
   ]
  },
  {
   "cell_type": "code",
   "execution_count": 73,
   "id": "flying-jimmy",
   "metadata": {},
   "outputs": [],
   "source": [
    "def find_negative_right(table):\n",
    "    lc = len(table[0,:])\n",
    "    m = min(table[:-1,lc-1])\n",
    "    if m<=0:        \n",
    "        n = np.where(table[:-1,lc-1] == m)[0][0]\n",
    "    else:\n",
    "        n = None\n",
    "    return n\n",
    "\n",
    "def find_negative_bottom(table):\n",
    "    lr = len(table[:,0])\n",
    "    m = min(table[lr-1,:-1])\n",
    "    if m<=0:\n",
    "        n = np.where(table[lr-1,:-1] == m)[0][0]\n",
    "    else:\n",
    "        n = None\n",
    "    return n"
   ]
  },
  {
   "cell_type": "markdown",
   "id": "sublime-tongue",
   "metadata": {},
   "source": [
    "### Znalezienie elementu obrodu odpowiadającego wartościom które znaleźliśmy w poprzednim punkcie\n",
    "\n",
    "**local_pivot_right** - znalezienie elementu obrotu dla negatywnych elementów w ostatniej kolumnie\n",
    "\n",
    "**local_pivot_bottom** - znalezienie elementu obrotu dla negatywnych elementów w dolnym rzędzie "
   ]
  },
  {
   "cell_type": "code",
   "execution_count": 74,
   "id": "sorted-young",
   "metadata": {},
   "outputs": [],
   "source": [
    "def local_pivot_right(table):\n",
    "    total = []        \n",
    "    r = find_negative_right(table)\n",
    "    row = table[r,:-1]\n",
    "    m = min(row)\n",
    "    c = np.where(row == m)[0][0]\n",
    "    col = table[:-1,c]\n",
    "    for i, b in zip(col,table[:-1,-1]):\n",
    "        if i**2>0 and b/i>0:\n",
    "            total.append(b/i)\n",
    "        else:                \n",
    "            total.append(10000)\n",
    "    index = total.index(min(total))        \n",
    "    return [index,c]\n",
    "\n",
    "def local_pivot_bottom(table):\n",
    "    if next_round_bottom(table):\n",
    "        total = []\n",
    "        n = find_negative_bottom(table)\n",
    "        for i,b in zip(table[:-1,n],table[:-1,-1]):\n",
    "            if b/i >0 and i**2>0:\n",
    "                total.append(b/i)\n",
    "            else:\n",
    "                total.append(10000)\n",
    "        index = total.index(min(total))\n",
    "        return [index,n]"
   ]
  },
  {
   "cell_type": "markdown",
   "id": "waiting-running",
   "metadata": {},
   "source": [
    "### Funkcja przestawna, obraca się wokół elementu, aby usunąć negatywny wpis w ostatniej kolumnie lub wierszu i zwraca zaktualizowaną tabelę."
   ]
  },
  {
   "cell_type": "code",
   "execution_count": 75,
   "id": "sudden-narrow",
   "metadata": {},
   "outputs": [],
   "source": [
    "def pivot(row, col, table):\n",
    "    lr = len(table[:,0])\n",
    "    lc = len(table[0,:])\n",
    "    t = np.zeros((lr,lc))\n",
    "    pr = table[row,:]\n",
    "    if table[row,col]**2>0:\n",
    "        e = 1/table[row,col]\n",
    "        r = pr*e\n",
    "        for i in range(len(table[:,col])):\n",
    "            k = table[i,:]\n",
    "            c = table[i,col]\n",
    "            if list(k) == list(pr):\n",
    "                continue\n",
    "            else:\n",
    "                t[i,:] = list(k-r*c)\n",
    "        t[row,:] = list(r)\n",
    "        return t\n",
    "    else:\n",
    "        print('Cannot pivot on this element.')"
   ]
  },
  {
   "cell_type": "markdown",
   "id": "minor-providence",
   "metadata": {},
   "source": [
    "# TODO Zrobić lepiej (Maciej)\n",
    "### Funkcja pozwalająca na zamiane ciągu na zmienne float, \n",
    "(„1,3,L,5”); oznacza to, że 1(x1) + 3(x2) ≤ 5. Alternatywnie, „G” może oznaczać nierówność ≥."
   ]
  },
  {
   "cell_type": "code",
   "execution_count": 76,
   "id": "occupational-bleeding",
   "metadata": {},
   "outputs": [],
   "source": [
    "# def convert(eq):\n",
    "#     eq = eq.split(',')\n",
    "#     if 'G' in eq:\n",
    "#         g = eq.index('G')\n",
    "#         del eq[g]\n",
    "#         eq = [float(i)*-1 for i in eq]\n",
    "#         return eq\n",
    "#     if 'L' in eq:\n",
    "#         l = eq.index('L')\n",
    "#         del eq[l]\n",
    "#         eq = [float(i) for i in eq]\n",
    "#         return eq\n",
    "\n",
    "def convert(eq):\n",
    "    if re.match(r'(.*)(<=|>=)(.*)', eq):\n",
    "        left = re.match(r'(.*)(<=|>=)(.*)', eq).group(1).replace(\" \", \"\").replace(\"+\", \" +\").replace(\"-\", \" -\").lower()\n",
    "        side = re.match(r'(.*)(<=|>=)(.*)', eq).group(2).replace(\" \", \"\")\n",
    "        right = re.match(r'(.*)(<=|>=)(.*)', eq).group(3).replace(\" \", \"\")\n",
    "\n",
    "        eq = []\n",
    "        left = re.split(' ', left)\n",
    "        if(left[0] == ''):\n",
    "            left.pop(0)\n",
    "\n",
    "        for x in left:\n",
    "            x = re.match(r'^(-?\\+?[0-9]*)x[0-9]*', x).group(1)\n",
    "            if(x == '' or x == '+'):\n",
    "                x = 1\n",
    "            elif(x == '-'):\n",
    "                x = -1\n",
    "            eq.append(float(x))\n",
    "            \n",
    "        if(side == '<='):\n",
    "            eq = [float(i) for i in eq]\n",
    "        elif(side == '>='):\n",
    "            eq = [float(i)*-1 for i in eq]\n",
    "        \n",
    "        eq.append(float(right))\n",
    "        \n",
    "        return eq\n",
    "    else: \n",
    "        print('Wrong input constrain.')"
   ]
  },
  {
   "cell_type": "markdown",
   "id": "funded-document",
   "metadata": {},
   "source": [
    "# TODO Jakoś lepiej opisać że dla jednego trzeba tam tą magie z zamianą współczynników na minus (Norbert)\n",
    "Aby rozwiązać problemy związane z minimalizacją, konieczne jest wykonanie następujących czynności. W problemach maksymalizacji M jest przeciwieństwem funkcji celu. Np. 4(x1) + 2(x2) staje się -4(x1) -2(x2). Jednak w przypadku problemów z minimalizacją funkcja celu pozostaje „taka, jaka jest”, ogólnie rzecz biorąc, ponieważ jest ona przeciwieństwem funkcji celu maksymalizacji."
   ]
  },
  {
   "cell_type": "code",
   "execution_count": 77,
   "id": "later-stretch",
   "metadata": {},
   "outputs": [],
   "source": [
    "def convert_min(table):\n",
    "    table[-1,:-2] = [-1*i for i in table[-1,:-2]]\n",
    "    table[-1,-1] = -1*table[-1,-1]    \n",
    "    return table"
   ]
  },
  {
   "cell_type": "markdown",
   "id": "driven-chemistry",
   "metadata": {},
   "source": [
    "### Funkcją generująca odpowiedną liczbę zmiennych x1, x2 itd.\n"
   ]
  },
  {
   "cell_type": "code",
   "execution_count": 78,
   "id": "wired-convergence",
   "metadata": {},
   "outputs": [],
   "source": [
    "def generate_variable(table):\n",
    "    lc = len(table[0,:])\n",
    "    lr = len(table[:,0])\n",
    "    var = lc - lr -1\n",
    "    v = []\n",
    "    for i in range(var):\n",
    "        v.append('x'+str(i+1))\n",
    "    return v"
   ]
  },
  {
   "cell_type": "markdown",
   "id": "coastal-player",
   "metadata": {},
   "source": [
    "# TODO można lepiej chyba żeby na starcie definiować ile ograniczeń a nie potem po piździe sprawdzać czy można (Maciej)\n",
    "### Funkcja sprawdzająca czy do macierzy można dodać ograniczenia"
   ]
  },
  {
   "cell_type": "code",
   "execution_count": 79,
   "id": "angry-flesh",
   "metadata": {},
   "outputs": [],
   "source": [
    "def add_cons(table):\n",
    "    lr = len(table[:,0])\n",
    "    empty = []\n",
    "    for i in range(lr):\n",
    "        total = 0\n",
    "        for j in table[i,:]:                       \n",
    "            total += j**2\n",
    "        if total == 0: \n",
    "            empty.append(total)\n",
    "    if len(empty)>1:\n",
    "        return True\n",
    "    else:\n",
    "        return False"
   ]
  },
  {
   "cell_type": "markdown",
   "id": "wrong-excitement",
   "metadata": {},
   "source": [
    "### TODO: Wypierdalać eksepszyn jak nie mozna constrainta\n",
    "\n",
    " Funkcja wstawiająca odpowiednie dane z warunków do tablicy wygenerowanej wcześniej"
   ]
  },
  {
   "cell_type": "code",
   "execution_count": 80,
   "id": "together-exhibition",
   "metadata": {},
   "outputs": [],
   "source": [
    "def constrain(table, eq):\n",
    "    if add_cons(table) == True:\n",
    "        lc = len(table[0,:])\n",
    "        lr = len(table[:,0])\n",
    "        var = lc - lr -1      \n",
    "        j = 0\n",
    "        while j < lr:            \n",
    "            row_check = table[j,:]\n",
    "            total = 0\n",
    "            for i in row_check:\n",
    "                total += float(i**2)\n",
    "            if total == 0:                \n",
    "                row = row_check\n",
    "                break\n",
    "            j +=1\n",
    "        eq = convert(eq)\n",
    "        i = 0\n",
    "        while i<len(eq)-1:\n",
    "            row[i] = eq[i]\n",
    "            i +=1        \n",
    "        row[-1] = eq[-1]\n",
    "        row[var+j] = 1    \n",
    "    else:\n",
    "        print('Cannot add another constraint.')"
   ]
  },
  {
   "cell_type": "markdown",
   "id": "comfortable-footage",
   "metadata": {},
   "source": [
    "# TODO To też jakoś można lepiej chyba (Norbert) - jedna funkcja?\n",
    "### Sprawdzenie czy można dodać funkcje celu do tablicy\n",
    "\n"
   ]
  },
  {
   "cell_type": "code",
   "execution_count": 81,
   "id": "failing-hollywood",
   "metadata": {},
   "outputs": [],
   "source": [
    "def add_obj(table):\n",
    "    lr = len(table[:,0])\n",
    "    empty = []\n",
    "    for i in range(lr):\n",
    "        total = 0        \n",
    "        for j in table[i,:]:\n",
    "            total += j**2\n",
    "        if total == 0:\n",
    "            empty.append(total)    \n",
    "    if len(empty)==1:\n",
    "        return True\n",
    "    else:\n",
    "        return False"
   ]
  },
  {
   "cell_type": "markdown",
   "id": "numerous-twist",
   "metadata": {},
   "source": [
    "### Dodanie funkcji ceu do tablicy"
   ]
  },
  {
   "cell_type": "code",
   "execution_count": 82,
   "id": "contrary-tiger",
   "metadata": {},
   "outputs": [],
   "source": [
    "def obj(table,eq):\n",
    "    if add_obj(table)==True:\n",
    "        eq = [float(i) for i in eq.split(',')]\n",
    "        lr = len(table[:,0])\n",
    "        row = table[lr-1,:]\n",
    "        i = 0        \n",
    "        while i<len(eq)-1:\n",
    "            row[i] = eq[i]*-1\n",
    "            i +=1\n",
    "        row[-2] = 1\n",
    "        row[-1] = eq[-1]\n",
    "    else:\n",
    "        print('You must finish adding constraints before the objective function can be added.')"
   ]
  },
  {
   "cell_type": "markdown",
   "id": "comparable-sunset",
   "metadata": {},
   "source": [
    "# TODO jakoś opis zrobić dobrze, ale generalnie jest to spięcie wszystkiego co wcześniej - flagi, jedna funkcja z maxz i minz (Maciej)\n",
    "użyją pętli while do określenia, czy wymagany jest element obrotu 1+, zlokalizowania elementu obrotu, jego obrotu wokół niego i kontynuowania procesu, aż wszystkie elementy ujemne zostaną usunięte z ostatniej kolumny i wiersza. Następnie zostaną wygenerowane zmienne dla x1 do xn i przypisane wartości zgodnie z ich pozycjami w tableau. Dodatkowo max otrzyma odpowiednią wartość. Na koniec funkcja zwróci max i zmienne w formie słownika."
   ]
  },
  {
   "cell_type": "code",
   "execution_count": 83,
   "id": "incident-maple",
   "metadata": {},
   "outputs": [],
   "source": [
    "def maxz(table):\n",
    "    while next_round_right(table)==True:\n",
    "        table = pivot(local_pivot_right(table)[0],local_pivot_right(table)[1],table)\n",
    "    while next_round_bottom(table)==True:\n",
    "        table = pivot(local_pivot_bottom(table)[0],local_pivot_bottom(table)[1],table)        \n",
    "    lc = len(table[0,:])\n",
    "    lr = len(table[:,0])\n",
    "    var = lc - lr -1\n",
    "    i = 0\n",
    "    val = {}\n",
    "    for i in range(var):\n",
    "        col = table[:,i]\n",
    "        s = sum(col)\n",
    "        m = max(col)\n",
    "        if float(s) == float(m):\n",
    "            loc = np.where(col == m)[0][0]            \n",
    "            val[generate_variable(table)[i]] = table[loc,-1]\n",
    "        else:\n",
    "            val[generate_variable(table)[i]] = 0\n",
    "    val['max'] = table[-1,-1]\n",
    "    return val"
   ]
  },
  {
   "cell_type": "markdown",
   "id": "encouraging-blanket",
   "metadata": {},
   "source": [
    "# TODO to co wyżej tylko dla minimalizacjii (robią prawie to samo)"
   ]
  },
  {
   "cell_type": "code",
   "execution_count": 84,
   "id": "headed-design",
   "metadata": {},
   "outputs": [],
   "source": [
    "def minz(table):\n",
    "    # !!!Jedyna różnica\n",
    "    table = convert_min(table)\n",
    "    while next_round_right(table)==True:\n",
    "        table = pivot(local_pivot_right(table)[0],local_pivot_right(table)[1],table)    \n",
    "    while next_round_bottom(table)==True:\n",
    "        table = pivot(local_pivot_bottom(table)[0],local_pivot_bottom(table)[1],table)       \n",
    "    lc = len(table[0,:])\n",
    "    lr = len(table[:,0])\n",
    "    var = lc - lr -1\n",
    "    i = 0\n",
    "    val = {}\n",
    "    for i in range(var):\n",
    "        col = table[:,i]\n",
    "        s = sum(col)\n",
    "        m = max(col)\n",
    "        if float(s) == float(m):\n",
    "            loc = np.where(col == m)[0][0]             \n",
    "            val[generate_variable(table)[i]] = table[loc,-1]\n",
    "        else:\n",
    "            val[generate_variable(table)[i]] = 0 \n",
    "            val['min'] = table[-1,-1]*-1\n",
    "    return val"
   ]
  },
  {
   "cell_type": "code",
   "execution_count": 90,
   "id": "velvet-kidney",
   "metadata": {},
   "outputs": [
    {
     "name": "stdout",
     "output_type": "stream",
     "text": [
      "{'x1': 10.0, 'x2': 0, 'max': 50.0}\n",
      "[[  1.  -1.   1.   0.   0.  20.]\n",
      " [  1.   3.   0.   1.   0.  10.]\n",
      " [ -5. -10.   0.   0.   1.   0.]]\n"
     ]
    }
   ],
   "source": [
    "    # Testy czy działa\n",
    "    m = generate_matrix(2,2)\n",
    "    # 2x1 -x2 >= 10\n",
    "    constrain(m,'x2 - x1 <= 20')\n",
    "    # x1 + x2 <= 20\n",
    "    constrain(m,'x1 + 3x2 <= +10')\n",
    "    obj(m,'5,10,0')\n",
    "    print(maxz(m))     \n",
    "\n",
    "    print(m)"
   ]
  },
  {
   "cell_type": "code",
   "execution_count": null,
   "id": "secure-laser",
   "metadata": {},
   "outputs": [],
   "source": []
  },
  {
   "cell_type": "code",
   "execution_count": null,
   "id": "current-perspective",
   "metadata": {},
   "outputs": [],
   "source": []
  }
 ],
 "metadata": {
  "interpreter": {
   "hash": "b3ba2566441a7c06988d0923437866b63cedc61552a5af99d1f4fb67d367b25f"
  },
  "kernelspec": {
   "display_name": "Python 3",
   "language": "python",
   "name": "python3"
  },
  "language_info": {
   "codemirror_mode": {
    "name": "ipython",
    "version": 3
   },
   "file_extension": ".py",
   "mimetype": "text/x-python",
   "name": "python",
   "nbconvert_exporter": "python",
   "pygments_lexer": "ipython3",
   "version": "3.9.0"
  }
 },
 "nbformat": 4,
 "nbformat_minor": 5
}
