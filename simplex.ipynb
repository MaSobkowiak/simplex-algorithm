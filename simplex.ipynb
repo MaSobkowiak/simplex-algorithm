{
 "cells": [
  {
   "cell_type": "code",
   "execution_count": 16,
   "id": "laden-reading",
   "metadata": {},
   "outputs": [],
   "source": [
    "import numpy as np\n",
    "import re"
   ]
  },
  {
   "cell_type": "markdown",
   "id": "handed-provincial",
   "metadata": {},
   "source": [
    "### Funkcja generująca tablicę numpy z wystarczającą liczbą wierszy dla każdego ograniczenia, funkcją celu i wystarczającą liczbą kolumn dla zmiennych, zmiennych luzu, M (maks./min.) i odpowiadającej im wartości.\n",
    "variables - liczba zmiennych x1, x2... \n",
    "\n",
    "constraints - liczba ograniczeń x1 < x2 ..."
   ]
  },
  {
   "cell_type": "code",
   "execution_count": 17,
   "id": "received-search",
   "metadata": {},
   "outputs": [
    {
     "output_type": "stream",
     "name": "stdout",
     "text": [
      "[[0. 0. 0. 0. 0. 0. 0. 0. 0. 0. 0. 0.]\n [0. 0. 0. 0. 0. 0. 0. 0. 0. 0. 0. 0.]\n [0. 0. 0. 0. 0. 0. 0. 0. 0. 0. 0. 0.]\n [0. 0. 0. 0. 0. 0. 0. 0. 0. 0. 0. 0.]\n [0. 0. 0. 0. 0. 0. 0. 0. 0. 0. 0. 0.]\n [0. 0. 0. 0. 0. 0. 0. 0. 0. 0. 0. 0.]]\n"
     ]
    }
   ],
   "source": [
    "def generate_matrix(variables , constraints):    \n",
    "    table = np.zeros((constraints + 1, variables + constraints + 2))    \n",
    "    return table\n",
    "\n",
    "print(generate_matrix(5, 5))"
   ]
  },
  {
   "cell_type": "markdown",
   "id": "derived-hollywood",
   "metadata": {},
   "source": [
    "**next_round_right** - sprawdza czy wymagana jest 1+ oś obrotu z powodu ujemnego elementu w najdalszej prawej kolumnie, wyłączając dolną wartość.\n",
    "\n",
    "**next_round_bottom** - sprawdza czy wymagana jest 1+ oś obrotu z powodu ujemnego elementu w dolnym wierszu, wyłączając wartość końcową.\n",
    "\n",
    "table - wygenerowana w punkcie pierwszym tablica"
   ]
  },
  {
   "cell_type": "code",
   "execution_count": 18,
   "id": "packed-integral",
   "metadata": {},
   "outputs": [],
   "source": [
    "def next_round_right(table):    \n",
    "    m = min(table[:-1,-1])    \n",
    "    if m>= 0:        \n",
    "        return False    \n",
    "    else:        \n",
    "        return True\n",
    "\n",
    "def next_round_bottom(table):    \n",
    "    lr = len(table[:,0])   \n",
    "    m = min(table[lr-1,:-1])    \n",
    "    if m>=0:\n",
    "        return False\n",
    "    else:\n",
    "        return True"
   ]
  },
  {
   "cell_type": "markdown",
   "id": "former-auction",
   "metadata": {},
   "source": [
    "### Niezależnie od tego, czy wymagane są dodatkowe elementy obrotowe, musimy określić, gdzie znajdują się te elementy.\n",
    "**find_negative_right** - znajduje elementy negatywne w skrajnej prawej kolumnie.\n",
    "\n",
    "**find_negative_bottom** - znajduje elementy negatywne w dolnym rzędzie"
   ]
  },
  {
   "cell_type": "code",
   "execution_count": 19,
   "id": "flying-jimmy",
   "metadata": {},
   "outputs": [],
   "source": [
    "def find_negative_right(table):\n",
    "    lc = len(table[0,:])\n",
    "    m = min(table[:-1,lc-1])\n",
    "    if m<=0:        \n",
    "        n = np.where(table[:-1,lc-1] == m)[0][0]\n",
    "    else:\n",
    "        n = None\n",
    "    return n\n",
    "\n",
    "def find_negative_bottom(table):\n",
    "    lr = len(table[:,0])\n",
    "    m = min(table[lr-1,:-1])\n",
    "    if m<=0:\n",
    "        n = np.where(table[lr-1,:-1] == m)[0][0]\n",
    "    else:\n",
    "        n = None\n",
    "    return n"
   ]
  },
  {
   "cell_type": "markdown",
   "id": "sublime-tongue",
   "metadata": {},
   "source": [
    "### Znalezienie elementu obrodu odpowiadającego wartościom które znaleźliśmy w poprzednim punkcie\n",
    "\n",
    "**local_pivot_right** - znalezienie elementu obrotu dla negatywnych elementów w ostatniej kolumnie\n",
    "\n",
    "**local_pivot_bottom** - znalezienie elementu obrotu dla negatywnych elementów w dolnym rzędzie "
   ]
  },
  {
   "cell_type": "code",
   "execution_count": 20,
   "id": "sorted-young",
   "metadata": {},
   "outputs": [],
   "source": [
    "def local_pivot_right(table):\n",
    "    total = []        \n",
    "    r = find_negative_right(table)\n",
    "    row = table[r,:-1]\n",
    "    m = min(row)\n",
    "    c = np.where(row == m)[0][0]\n",
    "    col = table[:-1,c]\n",
    "    for i, b in zip(col,table[:-1,-1]):\n",
    "        if i**2>0 and b/i>0:\n",
    "            total.append(b/i)\n",
    "        else:                \n",
    "            total.append(10000)\n",
    "    index = total.index(min(total))        \n",
    "    return [index,c]\n",
    "\n",
    "def local_pivot_bottom(table):\n",
    "    if next_round_bottom(table):\n",
    "        total = []\n",
    "        n = find_negative_bottom(table)\n",
    "        for i,b in zip(table[:-1,n],table[:-1,-1]):\n",
    "            if b/i >0 and i**2>0:\n",
    "                total.append(b/i)\n",
    "            else:\n",
    "                total.append(10000)\n",
    "        index = total.index(min(total))\n",
    "        return [index,n]"
   ]
  },
  {
   "cell_type": "markdown",
   "id": "waiting-running",
   "metadata": {},
   "source": [
    "### Funkcja przestawna, obraca się wokół elementu, aby usunąć negatywny wpis w ostatniej kolumnie lub wierszu i zwraca zaktualizowaną tabelę."
   ]
  },
  {
   "cell_type": "code",
   "execution_count": 21,
   "id": "sudden-narrow",
   "metadata": {},
   "outputs": [],
   "source": [
    "def pivot(row, col, table):\n",
    "    lr = len(table[:,0])\n",
    "    lc = len(table[0,:])\n",
    "    t = np.zeros((lr,lc))\n",
    "    pr = table[row,:]\n",
    "    if table[row,col]**2>0:\n",
    "        e = 1/table[row,col]\n",
    "        r = pr*e\n",
    "        for i in range(len(table[:,col])):\n",
    "            k = table[i,:]\n",
    "            c = table[i,col]\n",
    "            if list(k) == list(pr):\n",
    "                continue\n",
    "            else:\n",
    "                t[i,:] = list(k-r*c)\n",
    "        t[row,:] = list(r)\n",
    "        return t\n",
    "    else:\n",
    "        raise Exception('Cannot pivot on this element.')"
   ]
  },
  {
   "cell_type": "markdown",
   "id": "minor-providence",
   "metadata": {},
   "source": [
    "### Funkcja pozwalająca na zamiane ciągu na zmienne float, \n",
    "Wszystkie zmienne x1, x2, xn  muszą być podane w kolejności, i wszystkie muszą być wpisane,  np x2 >=1  to będzie 0x1 + x2 + 0x3 >=1, spacje nie mają znaczenia."
   ]
  },
  {
   "cell_type": "code",
   "execution_count": 22,
   "id": "occupational-bleeding",
   "metadata": {},
   "outputs": [],
   "source": [
    "def convert(eq):\n",
    "    if re.match(r'(.*)(<=|>=)(.*)', eq):\n",
    "        left = re.match(r'(.*)(<=|>=)(.*)', eq).group(1).replace(\" \", \"\").replace(\"+\", \" +\").replace(\"-\", \" -\").lower()\n",
    "        side = re.match(r'(.*)(<=|>=)(.*)', eq).group(2).replace(\" \", \"\")\n",
    "        right = re.match(r'(.*)(<=|>=)(.*)', eq).group(3).replace(\" \", \"\")\n",
    "\n",
    "        eq = []\n",
    "        left = re.split(' ', left)\n",
    "        if(left[0] == ''):\n",
    "            left.pop(0)\n",
    "\n",
    "        for x in left:\n",
    "            x = re.match(r'^(-?\\+?[0-9]*)x[0-9]*', x).group(1)\n",
    "            if(x == '' or x == '+'):\n",
    "                x = 1\n",
    "            elif(x == '-'):\n",
    "                x = -1\n",
    "            eq.append(float(x))\n",
    "            \n",
    "        if(side == '<='):\n",
    "            eq = [float(i) for i in eq]\n",
    "            eq.append(float(right))\n",
    "        elif(side == '>='):\n",
    "            eq = [float(i)*-1 for i in eq]\n",
    "            eq.append(float(right)*-1)\n",
    "        \n",
    "        \n",
    "        return eq\n",
    "    else: \n",
    "        raise Exception('Wrong input constrain.')"
   ]
  },
  {
   "cell_type": "markdown",
   "id": "funded-document",
   "metadata": {},
   "source": [
    "### Funkcja konwertująca współczynniki funkcji celu na odpowiednie dla problemów minimalizacyjncych\n",
    "W przypadku problemów maksymalizacyjnych, współczynniki w ostatnim wierszu tabeli Simpleksowej powstają poprzez obliczenie odwrotności współczynników funkcji celu. W przypadku problemów minimalizacyjncych natomiast, potrzebujemy aby współczynniki odpowiadały funkcji celu, dlatego definiujemy pomocniczą funkcję, która je odpowiednio zamienia."
   ]
  },
  {
   "cell_type": "code",
   "execution_count": 23,
   "id": "later-stretch",
   "metadata": {},
   "outputs": [],
   "source": [
    "def convert_min(table):\n",
    "    table[-1,:-2] = [-1*i for i in table[-1,:-2]]\n",
    "    table[-1,-1] = -1*table[-1,-1]    \n",
    "    return table"
   ]
  },
  {
   "cell_type": "markdown",
   "id": "driven-chemistry",
   "metadata": {},
   "source": [
    "### Funkcją generująca odpowiedną liczbę zmiennych x1, x2 itd.\n"
   ]
  },
  {
   "cell_type": "code",
   "execution_count": 24,
   "id": "wired-convergence",
   "metadata": {},
   "outputs": [],
   "source": [
    "def generate_variables(table):\n",
    "    lc = len(table[0,:])\n",
    "    lr = len(table[:,0])\n",
    "    var = lc - lr -1\n",
    "    v = []\n",
    "    for i in range(var):\n",
    "        v.append('x'+str(i+1))\n",
    "    return v"
   ]
  },
  {
   "cell_type": "markdown",
   "id": "coastal-player",
   "metadata": {},
   "source": [
    "### Funkcja sprawdzająca czy do macierzy można dodać kolejne ograniczenia"
   ]
  },
  {
   "cell_type": "code",
   "execution_count": 25,
   "id": "angry-flesh",
   "metadata": {},
   "outputs": [],
   "source": [
    "def add_cons(table):\n",
    "    lr = len(table[:,0])\n",
    "    empty = []\n",
    "    for i in range(lr):\n",
    "        total = 0\n",
    "        for j in table[i,:]:                       \n",
    "            total += j**2\n",
    "        if total == 0: \n",
    "            empty.append(total)\n",
    "    if len(empty)>1:\n",
    "        return True\n",
    "    else:\n",
    "        return False"
   ]
  },
  {
   "cell_type": "markdown",
   "id": "wrong-excitement",
   "metadata": {},
   "source": [
    "### Funkcja wstawiająca odpowiednie dane z warunków do tablicy wygenerowanej wcześniej"
   ]
  },
  {
   "cell_type": "code",
   "execution_count": 26,
   "id": "together-exhibition",
   "metadata": {},
   "outputs": [],
   "source": [
    "def constraint(table, eq):\n",
    "    if add_cons(table) == True:\n",
    "        lc = len(table[0,:])\n",
    "        lr = len(table[:,0])\n",
    "        var = lc - lr -1      \n",
    "        j = 0\n",
    "        while j < lr:            \n",
    "            row_check = table[j,:]\n",
    "            total = 0\n",
    "            for i in row_check:\n",
    "                total += float(i**2)\n",
    "            if total == 0:                \n",
    "                row = row_check\n",
    "                break\n",
    "            j +=1\n",
    "        eq = convert(eq)\n",
    "        i = 0\n",
    "        while i<len(eq)-1:\n",
    "            row[i] = eq[i]\n",
    "            i +=1        \n",
    "        row[-1] = eq[-1]\n",
    "        row[var+j] = 1    \n",
    "    else:\n",
    "        raise Exception('Cannot add another constraint.')"
   ]
  },
  {
   "cell_type": "markdown",
   "id": "comfortable-footage",
   "metadata": {},
   "source": [
    "### Sprawdzenie czy można dodać funkcje celu do tablicy\n",
    "Można dodać funkcję celu jedynie wtedy, gdy są zdefiniowane wszystkie ograniczenie - t.j. wtedy gdy zostaje jedynie ostatni rząd tabeli Simpleksowej z zerami. W tym celu sumujemy kwadraty poszczególnych współczynników w każdym z rzędów i liczymy rząd jako pusty gdy suma ta wynosi 0."
   ]
  },
  {
   "cell_type": "code",
   "execution_count": 27,
   "id": "failing-hollywood",
   "metadata": {},
   "outputs": [],
   "source": [
    "def add_obj(table):\n",
    "    lr = len(table[:,0])\n",
    "    empty = []\n",
    "    for i in range(lr):\n",
    "        total = 0        \n",
    "        for j in table[i,:]:\n",
    "            total += j**2\n",
    "        if total == 0:\n",
    "            empty.append(total)    \n",
    "    if len(empty)==1:\n",
    "        return True\n",
    "    else:\n",
    "        return False"
   ]
  },
  {
   "cell_type": "markdown",
   "id": "numerous-twist",
   "metadata": {},
   "source": [
    "### Dodanie funkcji celu do tablicy"
   ]
  },
  {
   "cell_type": "code",
   "execution_count": 28,
   "id": "contrary-tiger",
   "metadata": {},
   "outputs": [],
   "source": [
    "def convert2(eq):\n",
    "    if re.match(r'(.*)(=)(.*)', eq):\n",
    "        right = re.match(r'.*=(.*)', eq).group(1).replace(\" \", \"\").replace(\"+\", \" +\").replace(\"-\", \" -\").lower()\n",
    "        eq = []\n",
    "        right = re.split(' ', right)\n",
    "        if(right[0] == ''):\n",
    "            right.pop(0)\n",
    "\n",
    "        for x in right:\n",
    "            x = re.match(r'^(-?\\+?[0-9]*)x[0-9]*', x).group(1)\n",
    "            if(x == '' or x == '+'):\n",
    "                x = 1\n",
    "            elif(x == '-'):\n",
    "                x = -1\n",
    "            eq.append(float(x))\n",
    "        eq.append(float(0))\n",
    "        return eq\n",
    "    \n",
    "def obj(table,eq):\n",
    "    if add_obj(table)==True:\n",
    "        eq = convert2(eq)\n",
    "        lr = len(table[:,0])\n",
    "        row = table[lr-1,:]\n",
    "        i = 0        \n",
    "        while i<len(eq)-1:\n",
    "            row[i] = eq[i]*-1\n",
    "            i +=1\n",
    "        row[-2] = 1\n",
    "        row[-1] = eq[-1]\n",
    "    else:\n",
    "        raise Exception('You must finish adding constraints before the objective function can be added.')"
   ]
  },
  {
   "cell_type": "markdown",
   "id": "comparable-sunset",
   "metadata": {},
   "source": [
    "### Złączenie wszystkich elementów składowych w jeden algorytm\n",
    "Dwie pętle while do określenia, czy wymagany jest element obrotu 1+, jeżeli tak następuje jego zlokalizowanie, obrót wokół niego i kontynuowania procesu, aż wszystkie elementy ujemne zostaną usunięte z ostatniej kolumny i wiersza.  Następnie zostaną wygenerowane zmienne dla x1 do xn i przypisane wartości zgodnie z ich pozycjami w tabeli. Dodatkowo max lub min otrzyma odpowiednią wartość."
   ]
  },
  {
   "cell_type": "code",
   "execution_count": 29,
   "id": "incident-maple",
   "metadata": {},
   "outputs": [],
   "source": [
    "def calculate(table, flag='max'):\n",
    "    if(flag=='min'):\n",
    "        table = convert_min(table)\n",
    "        \n",
    "    while next_round_right(table)==True:\n",
    "        table = pivot(local_pivot_right(table)[0],local_pivot_right(table)[1],table)\n",
    "    while next_round_bottom(table)==True:\n",
    "        table = pivot(local_pivot_bottom(table)[0],local_pivot_bottom(table)[1],table)        \n",
    "    lc = len(table[0,:])\n",
    "    lr = len(table[:,0])\n",
    "    var = lc - lr -1\n",
    "    i = 0\n",
    "    val = {}\n",
    "    for i in range(var):\n",
    "        col = table[:,i]\n",
    "        s = sum(col)\n",
    "        m = max(col)\n",
    "        if float(s) == float(m):\n",
    "            loc = np.where(col == m)[0][0]            \n",
    "            val[generate_variables(table)[i]] = table[loc,-1]\n",
    "        else:\n",
    "            val[generate_variable(table)[i]] = 0\n",
    "    if(flag == 'min'):\n",
    "        val['min'] = table[-1,-1]*-1\n",
    "    elif(flag== 'max'):\n",
    "        val['max'] = table[-1,-1]\n",
    "    return val"
   ]
  },
  {
   "cell_type": "code",
   "execution_count": 30,
   "id": "velvet-kidney",
   "metadata": {},
   "outputs": [
    {
     "output_type": "stream",
     "name": "stdout",
     "text": [
      "{'x1': 5.0, 'x2': 25.0, 'x3': 70.0, 'min': -70.0}\n",
      "[[ 1.  1.  3.  1.  0.  0.  0. 30.]\n",
      " [-1. -0. -1.  0.  1.  0.  0. -5.]\n",
      " [ 1.  1.  0.  0.  0.  1.  0. 45.]\n",
      " [ 1. -3.  3. -0. -0. -0.  1. -0.]]\n",
      "<ipython-input-20-9385b0969448>:21: RuntimeWarning: divide by zero encountered in double_scalars\n",
      "  if b/i >0 and i**2>0:\n"
     ]
    }
   ],
   "source": [
    "    # Testy czy działa\n",
    "    m = generate_matrix(3,3)\n",
    "    constraint(m,'x1 + x2 +3x3 <= 30')\n",
    "    constraint(m,'x1 + 0x2 + x3 >= 5')\n",
    "    constraint(m,'x1 + x2 + 0x3 <= 45')\n",
    "    obj(m,'P = x1 -3x2 + 3x3')\n",
    "    print(calculate(m, 'min'))\n",
    "    print(m)"
   ]
  }
 ],
 "metadata": {
  "interpreter": {
   "hash": "b3ba2566441a7c06988d0923437866b63cedc61552a5af99d1f4fb67d367b25f"
  },
  "kernelspec": {
   "name": "python3",
   "display_name": "Python 3.8.5 64-bit ('base': conda)"
  },
  "language_info": {
   "codemirror_mode": {
    "name": "ipython",
    "version": 3
   },
   "file_extension": ".py",
   "mimetype": "text/x-python",
   "name": "python",
   "nbconvert_exporter": "python",
   "pygments_lexer": "ipython3",
   "version": "3.8.5"
  }
 },
 "nbformat": 4,
 "nbformat_minor": 5
}